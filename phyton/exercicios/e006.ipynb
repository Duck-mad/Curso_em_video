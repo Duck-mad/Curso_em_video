{
 "cells": [
  {
   "attachments": {},
   "cell_type": "markdown",
   "metadata": {},
   "source": [
    "### Dobro, triplo e raiz quadrada"
   ]
  },
  {
   "cell_type": "code",
   "execution_count": 2,
   "metadata": {},
   "outputs": [
    {
     "name": "stdout",
     "output_type": "stream",
     "text": [
      "Esse é seu número 16 , aqui o dobro 32 , triplo 48 e sua raiz quadrada 4\n"
     ]
    }
   ],
   "source": [
    "number1=int(input('Digite algum número inteiro'))\n",
    "\n",
    "print(f'Esse é seu número {number1} , aqui o dobro {number1*2} , triplo {number1*3} e sua raiz quadrada {int(number1**(1/2))}')"
   ]
  }
 ],
 "metadata": {
  "kernelspec": {
   "display_name": "base",
   "language": "python",
   "name": "python3"
  },
  "language_info": {
   "codemirror_mode": {
    "name": "ipython",
    "version": 3
   },
   "file_extension": ".py",
   "mimetype": "text/x-python",
   "name": "python",
   "nbconvert_exporter": "python",
   "pygments_lexer": "ipython3",
   "version": "3.10.9"
  },
  "orig_nbformat": 4
 },
 "nbformat": 4,
 "nbformat_minor": 2
}
