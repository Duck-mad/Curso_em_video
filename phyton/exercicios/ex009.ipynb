{
 "cells": [
  {
   "attachments": {},
   "cell_type": "markdown",
   "metadata": {},
   "source": [
    "Mostre-me a tabuada"
   ]
  },
  {
   "cell_type": "code",
   "execution_count": null,
   "metadata": {},
   "outputs": [],
   "source": [
    "num=int(input('Digite algum número para apresentar sua tabuada'))\n",
    "\n",
    "print(f'Tabuada do {num}:')\n",
    "print(f'0 x {num} = {num*0} \\n1 x {num} = {num*1} , 3 x {num} = {num*3}')\n",
    "print('0 x {} = {} \\n1 x {} = {} , 3 x {} = {}'.function )"
   ]
  },
  {
   "attachments": {},
   "cell_type": "markdown",
   "metadata": {},
   "source": [
    "Roger"
   ]
  },
  {
   "cell_type": "code",
   "execution_count": null,
   "metadata": {},
   "outputs": [],
   "source": [
    "num = int(input(\"Digite um número: \"))\n",
    "tabela = {0,1,2,3,4,5,6,7,8,9,10}\n",
    "\n",
    "for i in tabela:\n",
    "    print(f\"{num} x {i} = {num*i}\")"
   ]
  }
 ],
 "metadata": {
  "kernelspec": {
   "display_name": "base",
   "language": "python",
   "name": "python3"
  },
  "language_info": {
   "codemirror_mode": {
    "name": "ipython",
    "version": 3
   },
   "file_extension": ".py",
   "mimetype": "text/x-python",
   "name": "python",
   "nbconvert_exporter": "python",
   "pygments_lexer": "ipython3",
   "version": "3.10.9"
  },
  "orig_nbformat": 4
 },
 "nbformat": 4,
 "nbformat_minor": 2
}
