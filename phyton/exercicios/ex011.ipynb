{
 "cells": [
  {
   "attachments": {},
   "cell_type": "markdown",
   "metadata": {},
   "source": [
    "## Altura e largura para saber a área em m²"
   ]
  },
  {
   "attachments": {},
   "cell_type": "markdown",
   "metadata": {},
   "source": [
    "Primeiro as perguntas"
   ]
  },
  {
   "cell_type": "code",
   "execution_count": 7,
   "metadata": {},
   "outputs": [
    {
     "name": "stdout",
     "output_type": "stream",
     "text": [
      "Esta é a área (segundo dados informados):  20.00m²\n"
     ]
    }
   ],
   "source": [
    "height = float(input('Digite aqui a altura:'))\n",
    "width = float(input('Digite aqui a largura:'))\n",
    "\n",
    "area = height*width\n",
    "\n",
    "print(f'Esta é a área (segundo dados informados): {area: .2f}m²')"
   ]
  },
  {
   "attachments": {},
   "cell_type": "markdown",
   "metadata": {},
   "source": [
    "Depois verifica em metros² e dividir em 2 pois diz que precisa de 2 litros para pintar 1 metro²"
   ]
  },
  {
   "cell_type": "code",
   "execution_count": 8,
   "metadata": {},
   "outputs": [
    {
     "name": "stdout",
     "output_type": "stream",
     "text": [
      "Você precisará de 10.0L litros de tinta\n"
     ]
    }
   ],
   "source": [
    "litro = area/2\n",
    "\n",
    "print(f'Você precisará de {litro}L litros de tinta')\n"
   ]
  }
 ],
 "metadata": {
  "kernelspec": {
   "display_name": "base",
   "language": "python",
   "name": "python3"
  },
  "language_info": {
   "codemirror_mode": {
    "name": "ipython",
    "version": 3
   },
   "file_extension": ".py",
   "mimetype": "text/x-python",
   "name": "python",
   "nbconvert_exporter": "python",
   "pygments_lexer": "ipython3",
   "version": "3.10.9"
  },
  "orig_nbformat": 4
 },
 "nbformat": 4,
 "nbformat_minor": 2
}
