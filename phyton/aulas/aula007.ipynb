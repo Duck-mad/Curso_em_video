{
 "cells": [
  {
   "attachments": {},
   "cell_type": "markdown",
   "metadata": {},
   "source": [
    "# Teste"
   ]
  },
  {
   "cell_type": "code",
   "execution_count": null,
   "metadata": {},
   "outputs": [],
   "source": [
    "# soma\n",
    "5+2\n",
    "\n",
    "# subtração\n",
    "5-2\n",
    "\n",
    "# multiplicação\n",
    "5*2\n",
    "\n",
    "# divisão\n",
    "5/2\n",
    "\n",
    "# potência\n",
    "5**2\n",
    "\n",
    "#resto da divisão \n",
    "5//2\n",
    "\n",
    "# sobra\n",
    "5%2\n",
    "\n"
   ]
  }
 ],
 "metadata": {
  "kernelspec": {
   "display_name": "base",
   "language": "python",
   "name": "python3"
  },
  "language_info": {
   "codemirror_mode": {
    "name": "ipython",
    "version": 3
   },
   "file_extension": ".py",
   "mimetype": "text/x-python",
   "name": "python",
   "nbconvert_exporter": "python",
   "pygments_lexer": "ipython3",
   "version": "3.10.9"
  },
  "orig_nbformat": 4
 },
 "nbformat": 4,
 "nbformat_minor": 2
}
